{
 "cells": [
  {
   "cell_type": "markdown",
   "metadata": {},
   "source": [
    "If running in a new enviroment, such as Google Colab, run this first."
   ]
  },
  {
   "cell_type": "code",
   "execution_count": 2,
   "metadata": {},
   "outputs": [],
   "source": [
    "# !git clone https://github.com/zach401/acnportal.git\n",
    "# !pip install acnportal/.\n",
    "# TODO: Force installation of tqdm?\n",
    "# !pip install tqdm."
   ]
  },
  {
   "cell_type": "markdown",
   "metadata": {},
   "source": [
    "For this experiment, you will also need pandapower installed. Run the line of code below to install pandapower. We use pandapower 2.1.0 in this experiment."
   ]
  },
  {
   "cell_type": "code",
   "execution_count": 3,
   "metadata": {},
   "outputs": [],
   "source": [
    "# !pip install pandapower==2.1.0"
   ]
  },
  {
   "cell_type": "markdown",
   "metadata": {},
   "source": [
    "# ACN-Sim Experiments: Pandapower Co-Simulation\n",
    "## Implementing a Custom Algorithm\n",
    "### by Sunash Sharma, Zachary Lee\n",
    "#### Last updated: 11/06/2019\n",
    "\n",
    "In this experiment, we use ACN-Sim in conjunction with pandapower to understand the effects of EV charging on the electrical grid. Specifically, we use outputs from simulations of the JPL ACN with different charging algorithms as inputs to a pandapower power flow at varying timesteps in a simple electrical grid. We experiment with adding EV charging to a grid already loaded with offices, and we try adding photovoltaic (PV) generation to our grid to offset the negative effects of EV charging on the grid. We also demonstrate a load-flattening objective to the Adacharge algorithm that attempts to reduce strain on the grid by adjusting EV charging based on external loads and generation."
   ]
  },
  {
   "cell_type": "code",
   "execution_count": 106,
   "metadata": {},
   "outputs": [],
   "source": [
    "import pandapower as pp\n",
    "from pandapower import networks as pn\n",
    "\n",
    "import numpy as np\n",
    "import pandas as pd\n",
    "import matplotlib.pyplot as plt\n",
    "\n",
    "import pytz\n",
    "from datetime import datetime\n",
    "from datetime import timedelta\n",
    "from copy import deepcopy\n",
    "from tqdm import tqdm\n",
    "\n",
    "from acnportal import acnsim\n",
    "from acnportal import algorithms\n",
    "\n",
    "import pickle as pkl\n",
    "import json\n",
    "from io import StringIO\n",
    "\n",
    "import adacharge"
   ]
  },
  {
   "cell_type": "markdown",
   "metadata": {},
   "source": [
    "## Loading and Processing Load/Generation Data\n",
    "\n",
    "Before we do any simulation, we load in the generation and load data relevant for this experiment. We use the System Advisor Model (SAM) (https://sam.nrel.gov/) developed by the National Renewable Energy Laboratory (NREL) to simulate PV generation for year based on the typical meteorological year (TMY) in 2004 at JPL. We autosized the solar array using default settings (220 kWdc desired capacity). The resultant solar array had 219.586 kWdc and 179.580 kWac via a 1.22 DC/AC inverter. The SAM project file can be found at \n",
    "# TODO: Show where to find SAM project file\n",
    ". Let's load in the generation data from SAM's simulation."
   ]
  },
  {
   "cell_type": "code",
   "execution_count": 8,
   "metadata": {},
   "outputs": [],
   "source": [
    "# TODO: These steps would probably be better of as utils removed from the tutorial.\n",
    "# Load in PV Data -----------------------------------------------------------\n",
    "# The year for which this data were simulated.\n",
    "pv_year = 2004\n",
    "# File name for pv data.\n",
    "# TODO: Make sure this file is in the experiment directory.\n",
    "pv_file_name = \"results_jpl_autosized_220kWdc.csv\"\n",
    "# Read in PV data to a pandas DataFrame.\n",
    "pv_data_full = pd.read_csv(pv_file_name, parse_dates=[\"Time stamp\"])[[\"Time stamp\", \"Array DC power | (kW)\"]]\n",
    "# Add the year for conversion to datetime objects.\n",
    "pv_data_full[\"Time stamp\"] = [\"{0} {1}\".format(pv_year, pv_data_full[\"Time stamp\"][i]) for i in range(len(pv_data_full[\"Time stamp\"]))]\n",
    "# Convert date strings to datetime objects in DataFrame.\n",
    "# TODO: localizing this data to PST doesn't work due to a daylight savings time issue.\n",
    "pv_data_full[\"Time stamp\"] = pd.to_datetime(pv_data_full[\"Time stamp\"])#.dt.tz_localize(\"America/Los_Angeles\")\n",
    "# Reindex based on datetime.\n",
    "pv_data_full = pv_data_full.set_index(\"Time stamp\")\n",
    "# Rescale PV generation to AC capacity, convert to MW, and follow consumer-perspective sign convention (negative for generation)\n",
    "pv_data_full[\"AC Power (MW)\"] = -1 * pv_data_full[\"Array DC power | (kW)\"] / 1.22 / 1000"
   ]
  },
  {
   "cell_type": "markdown",
   "metadata": {},
   "source": [
    "We use data on building loads from the Office of Energy Efficiency & Renewable Energy (EERE) (https://openei.org/doe-opendata/dataset/commercial-and-residential-hourly-load-profiles-for-all-tmy3-locations-in-the-united-states). We use the medium office building load in the Burbank-Glendale-Pasadena file."
   ]
  },
  {
   "cell_type": "code",
   "execution_count": 31,
   "metadata": {},
   "outputs": [],
   "source": [
    "# Load in Medium Office Building Data -----------------------------------------------------\n",
    "# The year for which this data were gathered.\n",
    "load_year = 2004\n",
    "# File name for load data.\n",
    "# TODO: Make sure this file is in the experiment directory.\n",
    "load_file_name = \"RefBldgMediumOfficeNew2004_7.1_5.0_3B_USA_CA_LOS_ANGELES.csv\"\n",
    "# Read in load data to a pandas DataFrame.\n",
    "load_data_full = pd.read_csv(load_file_name, parse_dates=[\"Date/Time\"])[[\"Date/Time\", \"Electricity:Facility [kW](Hourly)\"]]\n",
    "# Add the year for conversion to datetime objects.\n",
    "load_data_full[\"Date/Time\"] = [\"{0} {1}\".format(load_year, load_data_full[\"Date/Time\"][i]) for i in range(len(load_data_full[\"Date/Time\"]))]"
   ]
  },
  {
   "cell_type": "markdown",
   "metadata": {},
   "source": [
    "The building load data uses the 1-24 hour time format, so we must convert this to the 0-23 hour format to use datetime objects."
   ]
  },
  {
   "cell_type": "code",
   "execution_count": 32,
   "metadata": {},
   "outputs": [],
   "source": [
    "# Convert date strings to 0-23 hour format.\n",
    "def convert_23_hr(time_lst):\n",
    "    \"\"\"Helper function to convert an index of 1-24 hour datetimes to 0-23 hour datetimes.\n",
    "    \n",
    "    Args:\n",
    "        time_lst (List[str]): List of 1-24 hour datetime strings to convert to 0-23 hour datetimes.\n",
    "    Returns:\n",
    "        List[datetime]: List of 0-23 hour datetimes\n",
    "    \"\"\"\n",
    "    # First move the last element to the beginning, as 12/31 24:00 is really 01/01 00:00.\n",
    "    time_lst = time_lst[-1:] + time_lst[:-1]\n",
    "    time_lst[0] = time_lst[0][0:4] + \" 01/01 00:00:00\"\n",
    "    for idx, time in enumerate(time_lst):\n",
    "        try:\n",
    "            date_time = datetime.strptime(time, '%Y %m/%d %H:%M:%S')\n",
    "            time_lst[idx] = date_time\n",
    "        except ValueError:\n",
    "            time = time.replace(\" 24\", \" 00\")\n",
    "            date_time = datetime.strptime(time, '%Y %m/%d %H:%M:%S')\n",
    "            date_time += timedelta(days=1)\n",
    "            time_lst[idx] = date_time\n",
    "    return time_lst\n",
    "load_data_full[\"Date/Time\"] = convert_23_hr(load_data_full[\"Date/Time\"].tolist())\n",
    "# convert date strings to datetime objects\n",
    "load_data_full[\"Date/Time\"] = pd.to_datetime(load_data_full[\"Date/Time\"])\n",
    "# convert loads to MW\n",
    "load_data_full[\"Electricity:Facility [MW](Hourly)\"] = load_data_full[\"Electricity:Facility [kW](Hourly)\"]/1000\n",
    "# reindex based on time\n",
    "load_data_full = load_data_full.set_index(\"Date/Time\")"
   ]
  },
  {
   "cell_type": "markdown",
   "metadata": {},
   "source": [
    "Now let's combine the relevant columns of the load and PV dataframes into one PV/load dataframe."
   ]
  },
  {
   "cell_type": "code",
   "execution_count": 40,
   "metadata": {},
   "outputs": [],
   "source": [
    "# Combine load and generation data in MW into one dataframe.\n",
    "pv_load_data_full = pd.concat([pv_data_full, load_data_full], axis=1)[[\"AC Power (MW)\", \"Electricity:Facility [MW](Hourly)\"]]\n",
    "pv_load_data_full.columns = ['PV Array (MW)', 'Medium Office (MW)']\n",
    "# TODO: check which of loads or pv has the last datetime stamp\n",
    "pv_load_data_full = pv_load_data_full.fillna(method='ffill')"
   ]
  },
  {
   "cell_type": "markdown",
   "metadata": {},
   "source": [
    "## Running JPL ACN simulations\n",
    "\n",
    "Now let us run simulations of adaptive charging on the JPL ACN. We'll first look at uncontrolled charging and earliest deadline first (EDF) algorithms. First, let's choose a weekday to simulate. Since we already have PV and load generations, we can look for two situations:\n",
    "\n",
    " 1) The site has high generation and low load, meaning power is sent back to the grid \\\n",
    " 2) The site has low generation and high load, so power is drawn from the grid \n",
    " \n",
    "both of these cases may cause voltage and overload isues in the grid, but for this experiment let's look for a weekday satisfying the first case."
   ]
  },
  {
   "cell_type": "code",
   "execution_count": 42,
   "metadata": {},
   "outputs": [
    {
     "data": {
      "text/plain": [
       "Timestamp('2004-05-07 12:00:00')"
      ]
     },
     "execution_count": 42,
     "metadata": {},
     "output_type": "execute_result"
    }
   ],
   "source": [
    "# Set net load/generation as a dataframe column. Recall generation is negative, hence the (+).\n",
    "pv_load_data_full[\"Net from Grid (MW)\"] = pv_load_data_full[\"Medium Office (MW)\"] + pv_load_data_full[\"PV Array (MW)\"]\n",
    "# We want the weekday with the highest power sent back to the grid.\n",
    "pv_load_data_full[\"Net from Grid (MW)\"][(pv_load_data_full.index.weekday != 5) & (pv_load_data_full.index.weekday != 6)].idxmin()"
   ]
  },
  {
   "cell_type": "markdown",
   "metadata": {},
   "source": [
    "May 7th was a weekday in both 2019 and 2004. Now let's run uncontrolled and EDF simulations. We'll use a simulation period of 5 (mins). First, let's define a function that builds and runs a simulation based on some configuration details."
   ]
  },
  {
   "cell_type": "code",
   "execution_count": 50,
   "metadata": {},
   "outputs": [],
   "source": [
    "# TODO: This might go in a utils module.\n",
    "# TODO: How do we handle api key for published experiments?\n",
    "def run_sim(sim_algorithm=algorithms.BaseAlgorithm, alg_kwargs={}, API_KEY='DEMO_TOKEN', site='caltech', start_date=datetime(2019, 1, 1), end_date=datetime(2019, 1, 2), period=1, verbose=False, timezone='America/Los_Angeles', basic_evse=True):\n",
    "    \"\"\"Builds and runs a simulation with the input configuration details.\n",
    "    \n",
    "    Args:\n",
    "        sim_algorithm (acnsim.algorithms.BaseAlgorithm constructor or callable): Algorithm function with which to run the simulation, default BaseAlgorithm.\n",
    "        alg_kwargs (Dict[str, object]): Keyword args input to the algorithm constructor, default {}.\n",
    "        API_KEY (str): API key for generating events, default 'DEMO_TOKEN'.\n",
    "        site (str): Site on which to run simulation, default 'caltech'.\n",
    "        start_date (datetime.datetime): Start datetime for simulation, default 01/01/2019 00:00.\n",
    "        end_date (datetime.datetime): End datetime for simulation, default 01/02/2019 00:00.\n",
    "        period (int): Simulation period in minutes, default 1.\n",
    "        verbose (bool): Outputs events if True, default False.\n",
    "        timezone (str): Timezone to localize start/end times, default 'America/Los_Angeles'.\n",
    "        basic_evse (bool): If true, use a basic continuous EVSE model rather than the realistic discrete models.\n",
    "    \n",
    "    Returns:\n",
    "        (acnsim.Simulator): Simulator object that has been run with the input algorithm.\n",
    "    \"\"\"\n",
    "    # -- Config ------------------------------------------------------------------------------------------------------------\n",
    "    timezone = pytz.timezone(timezone)\n",
    "    start = timezone.localize(start_date)\n",
    "    end = timezone.localize(end_date)\n",
    "    # TODO: this should be a network property.\n",
    "    voltage = 208  # volts\n",
    "    # TODO: make this a kwarg?\n",
    "    default_battery_power = 32 * voltage / 1000 # kW\n",
    "    \n",
    "    # -- Network -----------------------------------------------------------------------------------------------------------\n",
    "    # TODO: site registration (like OpenAI Gym does)\n",
    "    site_dict = {'caltech': acnsim.sites.caltech_acn, 'jpl': acnsim.sites.jpl_acn, 'office001': acnsim.sites.office001_acn}\n",
    "    try:\n",
    "        site_fn = site_dict[site]\n",
    "    except KeyError:\n",
    "        # TODO: SiteNotFound error class\n",
    "        raise KeyError(\"Site {0} not found\".format(site))\n",
    "    cn = site_fn(basic_evse=basic_evse, voltage=voltage)\n",
    "\n",
    "    # -- Events ------------------------------------------------------------------------------------------------------------\n",
    "    events = acnsim.acndata_events.generate_events(API_KEY, site, start, end, period, voltage, default_battery_power)\n",
    "    \n",
    "    # -- Algorithm ---------------------------------------------------------------------------------------------------------\n",
    "    # TODO: is there a better way to handle offline case?\n",
    "    if 'offline' in alg_kwargs and alg_kwargs['offline'] == True:\n",
    "        alg_kwargs['events'] = events\n",
    "    sch = sim_algorithm(**alg_kwargs)\n",
    "    \n",
    "    # -- Simulation --------------------------------------------------------------------------------------------------------\n",
    "    sim = acnsim.Simulator(deepcopy(cn), sch, deepcopy(events), start, period=period, verbose=verbose)\n",
    "    sim.run()\n",
    "    return sim"
   ]
  },
  {
   "cell_type": "markdown",
   "metadata": {},
   "source": [
    "Now let's run simulations with the configurations we discussed before. We run an uncontrolled charging simulation and an earliest deadline first simulation."
   ]
  },
  {
   "cell_type": "code",
   "execution_count": 51,
   "metadata": {},
   "outputs": [],
   "source": [
    "# Define the static simulation parameters (start, end, site, period) as a config dict.\n",
    "sim_year = 2019\n",
    "sim_start = datetime(sim_year, 5, 7)\n",
    "sim_end = datetime(sim_year, 5, 8)\n",
    "sim_period = 5\n",
    "sim_site = 'jpl'\n",
    "config = {\"start_date\": sim_start, \"end_date\": sim_end, \"period\": sim_period, \"site\": sim_site}\n",
    "\n",
    "# Simulate using uncontrolled charging.\n",
    "sim_unc = run_sim(algorithms.UncontrolledCharging, **config)\n",
    "# Simulate using the EDF algorithm.\n",
    "sim_edf = run_sim(lambda: algorithms.SortedSchedulingAlgo(algorithms.earliest_deadline_first), **config)"
   ]
  },
  {
   "cell_type": "markdown",
   "metadata": {},
   "source": [
    "## Load Flattening Simulations\n",
    "\n",
    "For our next simulation, we attempt to make the scheduling algorithm responsive to the other loads on the site. For example, in periods of high building loads, the scheduler will avoid charging cars, whereas in periods of high PV generation, the scheduler will attempt to charge more cars. We may consider this algorithm a load flattening algorithm, in that the total load of the site on the grid (building load + PV generation + EV charging) is pushed toward 0 through control of the EV charging rate in response to the external load and generation.\n",
    "\n",
    "# TODO: explain objective to Adacharge\n",
    "\n",
    "If we want to run our load flattening algorithm, we must first input the correct signals. The load which must be flattened is the sum of PV generation and building load. Also, since the simulation period is 5 minutes, we must tile out the load/generation data, which currently has period 30 minutes."
   ]
  },
  {
   "cell_type": "code",
   "execution_count": 61,
   "metadata": {},
   "outputs": [],
   "source": [
    "# Make sure the load and generation years are equal, as otherwise flattening the total load is inaccurate.\n",
    "assert pv_year == load_year\n",
    "# Construct all relevant datetimes with sim_period increments for the load year.\n",
    "base = pv_load_data_full.index[0]\n",
    "date_series = pd.date_range(base, pv_load_data_full.index[-1], freq=\"{0}min\".format(sim_period))\n",
    "# Reindex pv/load data with new, finer index and forward-fill NaN's. \n",
    "pv_load_data_full = pv_load_data_full.reindex(date_series).fillna(method='ffill')"
   ]
  },
  {
   "cell_type": "markdown",
   "metadata": {},
   "source": [
    "Now we can input the load data to the simulation as numpy arrays. We need to start the array at the timestamp when the simulation starts (May 7th at 12 AM). Also, let's run 3 cases for the external load:\n",
    " \n",
    " * PV generation only\n",
    " * Building load only\n",
    " * Building load + PV generation "
   ]
  },
  {
   "cell_type": "code",
   "execution_count": 64,
   "metadata": {},
   "outputs": [
    {
     "name": "stderr",
     "output_type": "stream",
     "text": [
      "/home/sunash/Documents/schmidt/acnportal/acnportal/acnsim/simulator.py:155: UserWarning: Invalid schedule provided at iteration 73\n",
      "  warnings.warn(\"Invalid schedule provided at iteration {0}\".format(self._iteration), UserWarning)\n",
      "/home/sunash/Documents/schmidt/acnportal/acnportal/acnsim/simulator.py:155: UserWarning: Invalid schedule provided at iteration 74\n",
      "  warnings.warn(\"Invalid schedule provided at iteration {0}\".format(self._iteration), UserWarning)\n",
      "/home/sunash/Documents/schmidt/acnportal/acnportal/acnsim/simulator.py:155: UserWarning: Invalid schedule provided at iteration 75\n",
      "  warnings.warn(\"Invalid schedule provided at iteration {0}\".format(self._iteration), UserWarning)\n",
      "/home/sunash/Documents/schmidt/acnportal/acnportal/acnsim/simulator.py:155: UserWarning: Invalid schedule provided at iteration 76\n",
      "  warnings.warn(\"Invalid schedule provided at iteration {0}\".format(self._iteration), UserWarning)\n",
      "/home/sunash/Documents/schmidt/acnportal/acnportal/acnsim/simulator.py:155: UserWarning: Invalid schedule provided at iteration 77\n",
      "  warnings.warn(\"Invalid schedule provided at iteration {0}\".format(self._iteration), UserWarning)\n",
      "/home/sunash/Documents/schmidt/acnportal/acnportal/acnsim/simulator.py:155: UserWarning: Invalid schedule provided at iteration 80\n",
      "  warnings.warn(\"Invalid schedule provided at iteration {0}\".format(self._iteration), UserWarning)\n",
      "/home/sunash/Documents/schmidt/acnportal/acnportal/acnsim/simulator.py:155: UserWarning: Invalid schedule provided at iteration 82\n",
      "  warnings.warn(\"Invalid schedule provided at iteration {0}\".format(self._iteration), UserWarning)\n",
      "/home/sunash/Documents/schmidt/acnportal/acnportal/acnsim/simulator.py:155: UserWarning: Invalid schedule provided at iteration 83\n",
      "  warnings.warn(\"Invalid schedule provided at iteration {0}\".format(self._iteration), UserWarning)\n",
      "/home/sunash/Documents/schmidt/acnportal/acnportal/acnsim/simulator.py:155: UserWarning: Invalid schedule provided at iteration 84\n",
      "  warnings.warn(\"Invalid schedule provided at iteration {0}\".format(self._iteration), UserWarning)\n",
      "/home/sunash/Documents/schmidt/acnportal/acnportal/acnsim/simulator.py:155: UserWarning: Invalid schedule provided at iteration 85\n",
      "  warnings.warn(\"Invalid schedule provided at iteration {0}\".format(self._iteration), UserWarning)\n",
      "/home/sunash/Documents/schmidt/acnportal/acnportal/acnsim/simulator.py:155: UserWarning: Invalid schedule provided at iteration 86\n",
      "  warnings.warn(\"Invalid schedule provided at iteration {0}\".format(self._iteration), UserWarning)\n",
      "/home/sunash/Documents/schmidt/acnportal/acnportal/acnsim/simulator.py:155: UserWarning: Invalid schedule provided at iteration 210\n",
      "  warnings.warn(\"Invalid schedule provided at iteration {0}\".format(self._iteration), UserWarning)\n",
      "/home/sunash/Documents/schmidt/acnportal/acnportal/acnsim/simulator.py:155: UserWarning: Invalid schedule provided at iteration 212\n",
      "  warnings.warn(\"Invalid schedule provided at iteration {0}\".format(self._iteration), UserWarning)\n"
     ]
    }
   ],
   "source": [
    "# Get building, PV, and combined load from the simulation start date onwards, as numpy arrays.\n",
    "pv_load_start = sim_start.replace(year=load_year)\n",
    "pv_arr = pv_load_data_full[\"PV Array (MW)\"][pv_load_start:]\n",
    "load_arr = pv_load_data_full[\"Medium Office (MW)\"][pv_load_start:]\n",
    "pv_load_arr = pv_load_data_full[\"Net from Grid (MW)\"][pv_load_start:]\n",
    "\n",
    "sim_lf_pv = run_sim(adacharge.AdaChargeLoadFlattening, alg_kwargs={'external_signal': pv_arr}, **config)\n",
    "sim_lf_load = run_sim(adacharge.AdaChargeLoadFlattening, alg_kwargs={'external_signal': load_arr}, **config)\n",
    "sim_lf_pv_load = run_sim(adacharge.AdaChargeLoadFlattening, alg_kwargs={'external_signal': pv_load_arr}, **config)"
   ]
  },
  {
   "cell_type": "markdown",
   "metadata": {},
   "source": [
    "Finally, let's compile the aggregate currents from the simulations into a dataframe for ease of access, along with the building load and PV generation."
   ]
  },
  {
   "cell_type": "code",
   "execution_count": 73,
   "metadata": {},
   "outputs": [],
   "source": [
    "# DataFrame for all simulation and load data. Simulation data is the aggregate current over time.\n",
    "all_results = pd.DataFrame(columns=[\"Medium Office Load\", \"PV Generation\", \"Combined Loads\", \"Uncontrolled Charging\", \"EDF Charging\", \"Load Flattening: PV\", \"Load Flattening: Load\", \"Load Flattening: Combined\"])\n",
    "\n",
    "# We will cut off load and generation after sim_len timesteps.\n",
    "sim_len = len(acnsim.aggregate_current(sim_unc))\n",
    "load_trunc = load_arr[:sim_len]\n",
    "pv_trunc = pv_arr[:sim_len]\n",
    "pv_load_trunc = pv_load_arr[:sim_len]\n",
    "\n",
    "# Set load/generation data\n",
    "for column, data in zip(all_results.columns[:3], [load_trunc, pv_trunc, pv_load_trunc]):\n",
    "    all_results[column] = data\n",
    "\n",
    "# Set simulation data (converting amps to MW)\n",
    "for column, sim in zip(all_results.columns[3:], [sim_unc, sim_edf, sim_lf_pv, sim_lf_load, sim_lf_pv_load]):\n",
    "    all_results[column] = acnsim.aggregate_current(sim) * 208 / 1000000"
   ]
  },
  {
   "cell_type": "markdown",
   "metadata": {},
   "source": [
    "## Using Pandapower for Grid Evaluation\n",
    "\n",
    "We can analyze the results of our simulations in the larger context of the electrical grid. Let's take the perspective of a system designer who wants to add EV charging to some sites without straining the rest of the electrical grid. Say the grid is configured like the Pandapower small branches-out test network, given at https://pandapower.readthedocs.io/en/v2.1.0/networks/test.html. We start with a medium office building load on each of the four loads in the network. Pandapower power flows are static evaluations, so we will conduct a power flow at each timestep to understand how the grid behaves in time. First, some functions to help us construct the network, assign its loads, and run power flows. To avoid having to change the test case from the pandapower specification, we divide all loads by 2, which doesn't change relative load sizes and so is acceptable for the purposes of this study."
   ]
  },
  {
   "cell_type": "code",
   "execution_count": 110,
   "metadata": {},
   "outputs": [],
   "source": [
    "def create_network():\n",
    "    \"\"\"Creates a small branches-out test network with active and reactive power set to 0.\n",
    "    \n",
    "    Returns:\n",
    "        pandapower.auxiliary.pandapowerNet: Output network.\n",
    "    \"\"\"\n",
    "    small_network = pn.four_loads_with_branches_out()\n",
    "    small_network.load[\"p_mw\"] = 0\n",
    "    small_network.load[\"q_mvar\"] = 0\n",
    "    return small_network\n",
    "\n",
    "def assign_loads(network, load_val, loads=None):\n",
    "    \"\"\"In network, assigns load_val as the active power for the loads specified in loads, or to all loads if loads=None.\n",
    "    \n",
    "    Args:\n",
    "        network (pandapower.auxiliary.pandapowerNet): Pandapower network on which to add loads.\n",
    "        load_val (number): Load to assign to the p_mw (active power) field.\n",
    "        loads (List[int]): Load indices for which to assign load_val as the active power. If None, assign load_val to all loads.\n",
    "    \n",
    "    Returns:\n",
    "        None.\n",
    "    \"\"\"\n",
    "    if loads is None:\n",
    "        loads = network.load.index.tolist()\n",
    "    network.load[\"p_mw\"][loads] = load_val\n",
    "\n",
    "def time_var_power_flow(load_results, n_timesteps, load_func):\n",
    "    \"\"\"Runs a power flow on the branches out network, for n_timesteps iterations, using load_func to generate loads to assign\n",
    "    from the load_results DataFrame.\n",
    "    \n",
    "    Args:\n",
    "        load_results (pd.DataFrame): a DataFrame with various loads/generations over time.\n",
    "        n_timesteps (int): number of timesteps for which to run the power flow.\n",
    "        load_func (pd.DataFrame, int -> number): a function that calculates a load from a DataFrame of loads and a timestep\n",
    "    \n",
    "    Returns:\n",
    "        List[pandapower.auxiliary.pandapowerNet]: List of output networks (with power flow results) at each time step.\n",
    "    \"\"\"\n",
    "    # Store output networks (with power flow results) in a list\n",
    "    power_flows = []\n",
    "    for i in tqdm(range(0, n_timesteps, 1)):\n",
    "        load_val = load_func(load_results, i)/2\n",
    "        curr_net = create_network()\n",
    "        assign_loads(curr_net, load_val)\n",
    "        # Save initial network state for deubbinging purposes.\n",
    "        snapshot = curr_net\n",
    "        # TODO: Once the experiment works, remove try-except block.\n",
    "        try:\n",
    "            pp.runpp(curr_net)\n",
    "        except:\n",
    "            print(i)\n",
    "            diag_results = pp.diagnostic(snapshot, overload_scaling_factor=0.5)\n",
    "            print(diag_results)\n",
    "            input(\"Press any key to continue.\")\n",
    "        power_flows.append(curr_net)\n",
    "    return power_flows"
   ]
  },
  {
   "cell_type": "markdown",
   "metadata": {},
   "source": [
    "Now let's run an initial power flow, that assumes only building loads are present (i.e. before we've installed any EVs)"
   ]
  },
  {
   "cell_type": "code",
   "execution_count": 112,
   "metadata": {},
   "outputs": [
    {
     "name": "stderr",
     "output_type": "stream",
     "text": [
      "100%|██████████| 296/296 [02:12<00:00,  2.23it/s]\n"
     ]
    }
   ],
   "source": [
    "pf_loads = time_var_power_flow(all_results, len_sim,\n",
    "                              lambda res, t: res[\"Medium Office Load\"][t])"
   ]
  },
  {
   "cell_type": "markdown",
   "metadata": {},
   "source": [
    "Let's see what the voltage on the last bus, farthest from the external grid (which would have the highest voltage difference from nominal out of all the buses)."
   ]
  },
  {
   "cell_type": "code",
   "execution_count": 113,
   "metadata": {},
   "outputs": [
    {
     "data": {
      "text/plain": [
       "[<matplotlib.lines.Line2D at 0x7fb4982a5b70>]"
      ]
     },
     "execution_count": 113,
     "metadata": {},
     "output_type": "execute_result"
    },
    {
     "data": {
      "image/png": "[encoded data removed]",
      "text/plain": [
       "<Figure size 432x288 with 1 Axes>"
      ]
     },
     "metadata": {
      "needs_background": "light"
     },
     "output_type": "display_data"
    }
   ],
   "source": [
    "plt.plot([pf_loads[i].res_bus[\"vm_pu\"][9] for i in range(len_sim)])"
   ]
  },
  {
   "cell_type": "markdown",
   "metadata": {},
   "source": [
    "We can see that at worst, we are 2% below the nominal voltage. Let's also look at transformer utilization."
   ]
  },
  {
   "cell_type": "code",
   "execution_count": 116,
   "metadata": {},
   "outputs": [
    {
     "data": {
      "text/plain": [
       "[<matplotlib.lines.Line2D at 0x7fb498158c18>]"
      ]
     },
     "execution_count": 116,
     "metadata": {},
     "output_type": "execute_result"
    },
    {
     "data": {
      "image/png": "[encoded data removed]",
      "text/plain": [
       "<Figure size 432x288 with 1 Axes>"
      ]
     },
     "metadata": {
      "needs_background": "light"
     },
     "output_type": "display_data"
    }
   ],
   "source": [
    "plt.plot([pf_loads[i].res_trafo[\"loading_percent\"][0] for i in range(len_sim)])"
   ]
  },
  {
   "cell_type": "markdown",
   "metadata": {},
   "source": [
    "We are well under 50% utilization. Now let's add in level 2 uncontrolled EV charging, modeled after the JPL charging network."
   ]
  },
  {
   "cell_type": "code",
   "execution_count": 99,
   "metadata": {
    "collapsed": true,
    "jupyter": {
     "outputs_hidden": true
    }
   },
   "outputs": [
    {
     "name": "stdout",
     "output_type": "stream",
     "text": [
      "timestep 0\n",
      "timestep 1\n",
      "timestep 2\n",
      "timestep 3\n",
      "timestep 4\n",
      "timestep 5\n",
      "timestep 6\n",
      "timestep 7\n",
      "timestep 8\n",
      "timestep 9\n",
      "timestep 10\n",
      "timestep 11\n",
      "timestep 12\n",
      "timestep 13\n",
      "timestep 14\n",
      "timestep 15\n",
      "timestep 16\n",
      "timestep 17\n",
      "timestep 18\n",
      "timestep 19\n",
      "timestep 20\n",
      "timestep 21\n",
      "timestep 22\n",
      "timestep 23\n",
      "timestep 24\n",
      "timestep 25\n",
      "timestep 26\n",
      "timestep 27\n",
      "timestep 28\n",
      "timestep 29\n",
      "timestep 30\n",
      "timestep 31\n",
      "timestep 32\n",
      "timestep 33\n",
      "timestep 34\n",
      "timestep 35\n",
      "timestep 36\n",
      "timestep 37\n",
      "timestep 38\n",
      "timestep 39\n",
      "timestep 40\n",
      "timestep 41\n",
      "timestep 42\n",
      "timestep 43\n",
      "timestep 44\n",
      "timestep 45\n",
      "timestep 46\n",
      "timestep 47\n",
      "timestep 48\n",
      "timestep 49\n",
      "timestep 50\n",
      "timestep 51\n",
      "timestep 52\n",
      "timestep 53\n",
      "timestep 54\n",
      "timestep 55\n",
      "timestep 56\n",
      "timestep 57\n",
      "timestep 58\n",
      "timestep 59\n",
      "timestep 60\n",
      "timestep 61\n",
      "timestep 62\n",
      "timestep 63\n",
      "timestep 64\n",
      "timestep 65\n",
      "timestep 66\n",
      "timestep 67\n",
      "timestep 68\n",
      "timestep 69\n",
      "timestep 70\n",
      "timestep 71\n",
      "timestep 72\n",
      "timestep 73\n",
      "timestep 74\n",
      "timestep 75\n",
      "timestep 76\n",
      "timestep 77\n",
      "timestep 78\n",
      "timestep 79\n",
      "timestep 80\n",
      "timestep 81\n",
      "timestep 82\n",
      "timestep 83\n",
      "timestep 84\n",
      "timestep 85\n",
      "timestep 86\n",
      "timestep 87\n",
      "timestep 88\n",
      "timestep 89\n",
      "timestep 90\n",
      "timestep 91\n",
      "timestep 92\n",
      "timestep 93\n",
      "timestep 94\n",
      "timestep 95\n",
      "timestep 96\n",
      "timestep 97\n",
      "timestep 98\n",
      "timestep 99\n",
      "timestep 100\n",
      "timestep 101\n",
      "timestep 102\n",
      "timestep 103\n",
      "timestep 104\n",
      "timestep 105\n",
      "timestep 106\n",
      "timestep 107\n",
      "timestep 108\n",
      "timestep 109\n",
      "timestep 110\n",
      "timestep 111\n",
      "timestep 112\n",
      "timestep 113\n",
      "timestep 114\n",
      "timestep 115\n",
      "timestep 116\n",
      "timestep 117\n",
      "timestep 118\n",
      "timestep 119\n",
      "timestep 120\n",
      "timestep 121\n",
      "timestep 122\n",
      "timestep 123\n",
      "timestep 124\n",
      "timestep 125\n",
      "timestep 126\n",
      "timestep 127\n",
      "timestep 128\n",
      "timestep 129\n",
      "timestep 130\n",
      "timestep 131\n",
      "timestep 132\n",
      "timestep 133\n",
      "timestep 134\n",
      "timestep 135\n",
      "timestep 136\n",
      "timestep 137\n",
      "timestep 138\n",
      "timestep 139\n",
      "timestep 140\n",
      "timestep 141\n",
      "timestep 142\n",
      "timestep 143\n",
      "timestep 144\n",
      "timestep 145\n",
      "timestep 146\n",
      "timestep 147\n",
      "timestep 148\n",
      "timestep 149\n",
      "timestep 150\n",
      "timestep 151\n",
      "timestep 152\n",
      "timestep 153\n",
      "timestep 154\n",
      "timestep 155\n",
      "timestep 156\n",
      "timestep 157\n",
      "timestep 158\n",
      "timestep 159\n",
      "timestep 160\n",
      "timestep 161\n",
      "timestep 162\n",
      "timestep 163\n",
      "timestep 164\n",
      "timestep 165\n",
      "timestep 166\n",
      "timestep 167\n",
      "timestep 168\n",
      "timestep 169\n",
      "timestep 170\n",
      "timestep 171\n",
      "timestep 172\n",
      "timestep 173\n",
      "timestep 174\n",
      "timestep 175\n",
      "timestep 176\n",
      "timestep 177\n",
      "timestep 178\n",
      "timestep 179\n",
      "timestep 180\n",
      "timestep 181\n",
      "timestep 182\n",
      "timestep 183\n",
      "timestep 184\n",
      "timestep 185\n",
      "timestep 186\n",
      "timestep 187\n",
      "timestep 188\n",
      "timestep 189\n",
      "timestep 190\n",
      "timestep 191\n",
      "timestep 192\n",
      "timestep 193\n",
      "timestep 194\n",
      "timestep 195\n",
      "timestep 196\n",
      "timestep 197\n",
      "timestep 198\n",
      "timestep 199\n",
      "timestep 200\n",
      "timestep 201\n",
      "timestep 202\n",
      "timestep 203\n",
      "timestep 204\n",
      "timestep 205\n",
      "timestep 206\n",
      "timestep 207\n",
      "timestep 208\n",
      "timestep 209\n",
      "timestep 210\n",
      "timestep 211\n",
      "timestep 212\n",
      "timestep 213\n",
      "timestep 214\n",
      "timestep 215\n",
      "timestep 216\n",
      "timestep 217\n",
      "timestep 218\n",
      "timestep 219\n",
      "timestep 220\n",
      "timestep 221\n",
      "timestep 222\n",
      "timestep 223\n",
      "timestep 224\n",
      "timestep 225\n",
      "timestep 226\n",
      "timestep 227\n",
      "timestep 228\n",
      "timestep 229\n",
      "timestep 230\n",
      "timestep 231\n",
      "timestep 232\n",
      "timestep 233\n",
      "timestep 234\n",
      "timestep 235\n",
      "timestep 236\n",
      "timestep 237\n",
      "timestep 238\n",
      "timestep 239\n",
      "timestep 240\n",
      "timestep 241\n",
      "timestep 242\n",
      "timestep 243\n",
      "timestep 244\n",
      "timestep 245\n",
      "timestep 246\n",
      "timestep 247\n",
      "timestep 248\n",
      "timestep 249\n",
      "timestep 250\n",
      "timestep 251\n",
      "timestep 252\n",
      "timestep 253\n",
      "timestep 254\n",
      "timestep 255\n",
      "timestep 256\n",
      "timestep 257\n",
      "timestep 258\n",
      "timestep 259\n",
      "timestep 260\n",
      "timestep 261\n",
      "timestep 262\n",
      "timestep 263\n",
      "timestep 264\n",
      "timestep 265\n",
      "timestep 266\n",
      "timestep 267\n",
      "timestep 268\n",
      "timestep 269\n",
      "timestep 270\n",
      "timestep 271\n",
      "timestep 272\n",
      "timestep 273\n",
      "timestep 274\n",
      "timestep 275\n",
      "timestep 276\n",
      "timestep 277\n",
      "timestep 278\n",
      "timestep 279\n",
      "timestep 280\n",
      "timestep 281\n",
      "timestep 282\n",
      "timestep 283\n",
      "timestep 284\n",
      "timestep 285\n",
      "timestep 286\n",
      "timestep 287\n",
      "timestep 288\n",
      "timestep 289\n",
      "timestep 290\n",
      "timestep 291\n",
      "timestep 292\n",
      "timestep 293\n",
      "timestep 294\n",
      "timestep 295\n"
     ]
    }
   ],
   "source": [
    "pf_loads_unc = time_var_power_flow(all_results, len_sim,\n",
    "                              lambda res, t: res[\"Medium Office Load\"][t] + res[\"Uncontrolled Charging\"][t])"
   ]
  },
  {
   "cell_type": "code",
   "execution_count": 119,
   "metadata": {},
   "outputs": [
    {
     "data": {
      "text/plain": [
       "[<matplotlib.lines.Line2D at 0x7fb497f52ef0>]"
      ]
     },
     "execution_count": 119,
     "metadata": {},
     "output_type": "execute_result"
    },
    {
     "data": {
      "image/png": "[encoded data removed]",
      "text/plain": [
       "<Figure size 432x288 with 1 Axes>"
      ]
     },
     "metadata": {
      "needs_background": "light"
     },
     "output_type": "display_data"
    }
   ],
   "source": [
    "plt.plot([pf_loads[i].res_bus[\"vm_pu\"][9] for i in range(len_sim)])\n",
    "plt.plot([pf_loads_unc[i].res_bus[\"vm_pu\"][9] for i in range(len_sim)])"
   ]
  },
  {
   "cell_type": "markdown",
   "metadata": {},
   "source": [
    "By adding uncontrolled EV charging, we have dropped drastically below the nominal voltage, over 16% lower. What about our transformer utilization?"
   ]
  },
  {
   "cell_type": "code",
   "execution_count": 120,
   "metadata": {},
   "outputs": [
    {
     "data": {
      "text/plain": [
       "[<matplotlib.lines.Line2D at 0x7fb49adf4748>]"
      ]
     },
     "execution_count": 120,
     "metadata": {},
     "output_type": "execute_result"
    },
    {
     "data": {
      "image/png": "[encoded data removed]",
      "text/plain": [
       "<Figure size 432x288 with 1 Axes>"
      ]
     },
     "metadata": {
      "needs_background": "light"
     },
     "output_type": "display_data"
    }
   ],
   "source": [
    "plt.plot([pf_loads[i].res_trafo[\"loading_percent\"][0] for i in range(len_sim)])\n",
    "plt.plot([pf_loads_unc[i].res_trafo[\"loading_percent\"][0] for i in range(len_sim)])"
   ]
  },
  {
   "cell_type": "markdown",
   "metadata": {},
   "source": [
    "We are overutilizing the transformer by 150% percent. Clearly, our grid is in no way equipped to handle EV charging on the desired scale if the charging is uncontrolled. Let's now try adding in charge scheduling to avoid violating network infrastructure constraints and hopefully lessen the burden on the grid."
   ]
  },
  {
   "cell_type": "code",
   "execution_count": 100,
   "metadata": {
    "collapsed": true,
    "jupyter": {
     "outputs_hidden": true
    }
   },
   "outputs": [
    {
     "name": "stdout",
     "output_type": "stream",
     "text": [
      "timestep 0\n",
      "timestep 1\n",
      "timestep 2\n",
      "timestep 3\n",
      "timestep 4\n",
      "timestep 5\n",
      "timestep 6\n",
      "timestep 7\n",
      "timestep 8\n",
      "timestep 9\n",
      "timestep 10\n",
      "timestep 11\n",
      "timestep 12\n",
      "timestep 13\n",
      "timestep 14\n",
      "timestep 15\n",
      "timestep 16\n",
      "timestep 17\n",
      "timestep 18\n",
      "timestep 19\n",
      "timestep 20\n",
      "timestep 21\n",
      "timestep 22\n",
      "timestep 23\n",
      "timestep 24\n",
      "timestep 25\n",
      "timestep 26\n",
      "timestep 27\n",
      "timestep 28\n",
      "timestep 29\n",
      "timestep 30\n",
      "timestep 31\n",
      "timestep 32\n",
      "timestep 33\n",
      "timestep 34\n",
      "timestep 35\n",
      "timestep 36\n",
      "timestep 37\n",
      "timestep 38\n",
      "timestep 39\n",
      "timestep 40\n",
      "timestep 41\n",
      "timestep 42\n",
      "timestep 43\n",
      "timestep 44\n",
      "timestep 45\n",
      "timestep 46\n",
      "timestep 47\n",
      "timestep 48\n",
      "timestep 49\n",
      "timestep 50\n",
      "timestep 51\n",
      "timestep 52\n",
      "timestep 53\n",
      "timestep 54\n",
      "timestep 55\n",
      "timestep 56\n",
      "timestep 57\n",
      "timestep 58\n",
      "timestep 59\n",
      "timestep 60\n",
      "timestep 61\n",
      "timestep 62\n",
      "timestep 63\n",
      "timestep 64\n",
      "timestep 65\n",
      "timestep 66\n",
      "timestep 67\n",
      "timestep 68\n",
      "timestep 69\n",
      "timestep 70\n",
      "timestep 71\n",
      "timestep 72\n",
      "timestep 73\n",
      "timestep 74\n",
      "timestep 75\n",
      "timestep 76\n",
      "timestep 77\n",
      "timestep 78\n",
      "timestep 79\n",
      "timestep 80\n",
      "timestep 81\n",
      "timestep 82\n",
      "timestep 83\n",
      "timestep 84\n",
      "timestep 85\n",
      "timestep 86\n",
      "timestep 87\n",
      "timestep 88\n",
      "timestep 89\n",
      "timestep 90\n",
      "timestep 91\n",
      "timestep 92\n",
      "timestep 93\n",
      "timestep 94\n",
      "timestep 95\n",
      "timestep 96\n",
      "timestep 97\n",
      "timestep 98\n",
      "timestep 99\n",
      "timestep 100\n",
      "timestep 101\n",
      "timestep 102\n",
      "timestep 103\n",
      "timestep 104\n",
      "timestep 105\n",
      "timestep 106\n",
      "timestep 107\n",
      "timestep 108\n",
      "timestep 109\n",
      "timestep 110\n",
      "timestep 111\n",
      "timestep 112\n",
      "timestep 113\n",
      "timestep 114\n",
      "timestep 115\n",
      "timestep 116\n",
      "timestep 117\n",
      "timestep 118\n",
      "timestep 119\n",
      "timestep 120\n",
      "timestep 121\n",
      "timestep 122\n",
      "timestep 123\n",
      "timestep 124\n",
      "timestep 125\n",
      "timestep 126\n",
      "timestep 127\n",
      "timestep 128\n",
      "timestep 129\n",
      "timestep 130\n",
      "timestep 131\n",
      "timestep 132\n",
      "timestep 133\n",
      "timestep 134\n",
      "timestep 135\n",
      "timestep 136\n",
      "timestep 137\n",
      "timestep 138\n",
      "timestep 139\n",
      "timestep 140\n",
      "timestep 141\n",
      "timestep 142\n",
      "timestep 143\n",
      "timestep 144\n",
      "timestep 145\n",
      "timestep 146\n",
      "timestep 147\n",
      "timestep 148\n",
      "timestep 149\n",
      "timestep 150\n",
      "timestep 151\n",
      "timestep 152\n",
      "timestep 153\n",
      "timestep 154\n",
      "timestep 155\n",
      "timestep 156\n",
      "timestep 157\n",
      "timestep 158\n",
      "timestep 159\n",
      "timestep 160\n",
      "timestep 161\n",
      "timestep 162\n",
      "timestep 163\n",
      "timestep 164\n",
      "timestep 165\n",
      "timestep 166\n",
      "timestep 167\n",
      "timestep 168\n",
      "timestep 169\n",
      "timestep 170\n",
      "timestep 171\n",
      "timestep 172\n",
      "timestep 173\n",
      "timestep 174\n",
      "timestep 175\n",
      "timestep 176\n",
      "timestep 177\n",
      "timestep 178\n",
      "timestep 179\n",
      "timestep 180\n",
      "timestep 181\n",
      "timestep 182\n",
      "timestep 183\n",
      "timestep 184\n",
      "timestep 185\n",
      "timestep 186\n",
      "timestep 187\n",
      "timestep 188\n",
      "timestep 189\n",
      "timestep 190\n",
      "timestep 191\n",
      "timestep 192\n",
      "timestep 193\n",
      "timestep 194\n",
      "timestep 195\n",
      "timestep 196\n",
      "timestep 197\n",
      "timestep 198\n",
      "timestep 199\n",
      "timestep 200\n",
      "timestep 201\n",
      "timestep 202\n",
      "timestep 203\n",
      "timestep 204\n",
      "timestep 205\n",
      "timestep 206\n",
      "timestep 207\n",
      "timestep 208\n",
      "timestep 209\n",
      "timestep 210\n",
      "timestep 211\n",
      "timestep 212\n",
      "timestep 213\n",
      "timestep 214\n",
      "timestep 215\n",
      "timestep 216\n",
      "timestep 217\n",
      "timestep 218\n",
      "timestep 219\n",
      "timestep 220\n",
      "timestep 221\n",
      "timestep 222\n",
      "timestep 223\n",
      "timestep 224\n",
      "timestep 225\n",
      "timestep 226\n",
      "timestep 227\n",
      "timestep 228\n",
      "timestep 229\n",
      "timestep 230\n",
      "timestep 231\n",
      "timestep 232\n",
      "timestep 233\n",
      "timestep 234\n",
      "timestep 235\n",
      "timestep 236\n",
      "timestep 237\n",
      "timestep 238\n",
      "timestep 239\n",
      "timestep 240\n",
      "timestep 241\n",
      "timestep 242\n",
      "timestep 243\n",
      "timestep 244\n",
      "timestep 245\n",
      "timestep 246\n",
      "timestep 247\n",
      "timestep 248\n",
      "timestep 249\n",
      "timestep 250\n",
      "timestep 251\n",
      "timestep 252\n",
      "timestep 253\n",
      "timestep 254\n",
      "timestep 255\n",
      "timestep 256\n",
      "timestep 257\n",
      "timestep 258\n",
      "timestep 259\n",
      "timestep 260\n",
      "timestep 261\n",
      "timestep 262\n",
      "timestep 263\n",
      "timestep 264\n",
      "timestep 265\n",
      "timestep 266\n",
      "timestep 267\n",
      "timestep 268\n",
      "timestep 269\n",
      "timestep 270\n",
      "timestep 271\n",
      "timestep 272\n",
      "timestep 273\n",
      "timestep 274\n",
      "timestep 275\n",
      "timestep 276\n",
      "timestep 277\n",
      "timestep 278\n",
      "timestep 279\n",
      "timestep 280\n",
      "timestep 281\n",
      "timestep 282\n",
      "timestep 283\n",
      "timestep 284\n",
      "timestep 285\n",
      "timestep 286\n",
      "timestep 287\n",
      "timestep 288\n",
      "timestep 289\n",
      "timestep 290\n",
      "timestep 291\n",
      "timestep 292\n",
      "timestep 293\n",
      "timestep 294\n",
      "timestep 295\n"
     ]
    }
   ],
   "source": [
    "pf_loads_edf = time_var_power_flow(all_results, len_sim,\n",
    "                              lambda res, t: res[\"Medium Office Load\"][t] + res[\"EDF Charging\"][t])"
   ]
  },
  {
   "cell_type": "code",
   "execution_count": 121,
   "metadata": {},
   "outputs": [
    {
     "data": {
      "text/plain": [
       "[<matplotlib.lines.Line2D at 0x7fb498040f98>]"
      ]
     },
     "execution_count": 121,
     "metadata": {},
     "output_type": "execute_result"
    },
    {
     "data": {
      "image/png": "[encoded data removed]",
      "text/plain": [
       "<Figure size 432x288 with 1 Axes>"
      ]
     },
     "metadata": {
      "needs_background": "light"
     },
     "output_type": "display_data"
    }
   ],
   "source": [
    "plt.plot([pf_loads[i].res_bus[\"vm_pu\"][9] for i in range(len_sim)])\n",
    "plt.plot([pf_loads_unc[i].res_bus[\"vm_pu\"][9] for i in range(len_sim)])\n",
    "plt.plot([pf_loads_edf[i].res_bus[\"vm_pu\"][9] for i in range(len_sim)])"
   ]
  },
  {
   "cell_type": "code",
   "execution_count": 122,
   "metadata": {},
   "outputs": [
    {
     "data": {
      "text/plain": [
       "[<matplotlib.lines.Line2D at 0x7fb49827d780>]"
      ]
     },
     "execution_count": 122,
     "metadata": {},
     "output_type": "execute_result"
    },
    {
     "data": {
      "image/png": "[encoded data removed]",
      "text/plain": [
       "<Figure size 432x288 with 1 Axes>"
      ]
     },
     "metadata": {
      "needs_background": "light"
     },
     "output_type": "display_data"
    }
   ],
   "source": [
    "plt.plot([pf_loads[i].res_trafo[\"loading_percent\"][0] for i in range(len_sim)])\n",
    "plt.plot([pf_loads_unc[i].res_trafo[\"loading_percent\"][0] for i in range(len_sim)])\n",
    "plt.plot([pf_loads_edf[i].res_trafo[\"loading_percent\"][0] for i in range(len_sim)])"
   ]
  },
  {
   "cell_type": "markdown",
   "metadata": {},
   "source": [
    "We see we're slightly kinder to the grid, but we still have over a 10% voltage drop and 75% transformer over-utilization, both of which are unacceptable. Scheduling on its own does not seem to sufficiently mitigate the effect of EV charging on the grid. So, let's try using onsite solar generation to offset some of the load on the grid."
   ]
  },
  {
   "cell_type": "code",
   "execution_count": 101,
   "metadata": {
    "collapsed": true,
    "jupyter": {
     "outputs_hidden": true
    }
   },
   "outputs": [
    {
     "name": "stdout",
     "output_type": "stream",
     "text": [
      "timestep 0\n",
      "timestep 1\n",
      "timestep 2\n",
      "timestep 3\n",
      "timestep 4\n",
      "timestep 5\n",
      "timestep 6\n",
      "timestep 7\n",
      "timestep 8\n",
      "timestep 9\n",
      "timestep 10\n",
      "timestep 11\n",
      "timestep 12\n",
      "timestep 13\n",
      "timestep 14\n",
      "timestep 15\n",
      "timestep 16\n",
      "timestep 17\n",
      "timestep 18\n",
      "timestep 19\n",
      "timestep 20\n",
      "timestep 21\n",
      "timestep 22\n",
      "timestep 23\n",
      "timestep 24\n",
      "timestep 25\n",
      "timestep 26\n",
      "timestep 27\n",
      "timestep 28\n",
      "timestep 29\n",
      "timestep 30\n",
      "timestep 31\n",
      "timestep 32\n",
      "timestep 33\n",
      "timestep 34\n",
      "timestep 35\n",
      "timestep 36\n",
      "timestep 37\n",
      "timestep 38\n",
      "timestep 39\n",
      "timestep 40\n",
      "timestep 41\n",
      "timestep 42\n",
      "timestep 43\n",
      "timestep 44\n",
      "timestep 45\n",
      "timestep 46\n",
      "timestep 47\n",
      "timestep 48\n",
      "timestep 49\n",
      "timestep 50\n",
      "timestep 51\n",
      "timestep 52\n",
      "timestep 53\n",
      "timestep 54\n",
      "timestep 55\n",
      "timestep 56\n",
      "timestep 57\n",
      "timestep 58\n",
      "timestep 59\n",
      "timestep 60\n",
      "timestep 61\n",
      "timestep 62\n",
      "timestep 63\n",
      "timestep 64\n",
      "timestep 65\n",
      "timestep 66\n",
      "timestep 67\n",
      "timestep 68\n",
      "timestep 69\n",
      "timestep 70\n",
      "timestep 71\n",
      "timestep 72\n",
      "timestep 73\n",
      "timestep 74\n",
      "timestep 75\n",
      "timestep 76\n",
      "timestep 77\n",
      "timestep 78\n",
      "timestep 79\n",
      "timestep 80\n",
      "timestep 81\n",
      "timestep 82\n",
      "timestep 83\n",
      "timestep 84\n",
      "timestep 85\n",
      "timestep 86\n",
      "timestep 87\n",
      "timestep 88\n",
      "timestep 89\n",
      "timestep 90\n",
      "timestep 91\n",
      "timestep 92\n",
      "timestep 93\n",
      "timestep 94\n",
      "timestep 95\n",
      "timestep 96\n",
      "timestep 97\n",
      "timestep 98\n",
      "timestep 99\n",
      "timestep 100\n",
      "timestep 101\n",
      "timestep 102\n",
      "timestep 103\n",
      "timestep 104\n",
      "timestep 105\n",
      "timestep 106\n",
      "timestep 107\n",
      "timestep 108\n",
      "timestep 109\n",
      "timestep 110\n",
      "timestep 111\n",
      "timestep 112\n",
      "timestep 113\n",
      "timestep 114\n",
      "timestep 115\n",
      "timestep 116\n",
      "timestep 117\n",
      "timestep 118\n",
      "timestep 119\n",
      "timestep 120\n",
      "timestep 121\n",
      "timestep 122\n",
      "timestep 123\n",
      "timestep 124\n",
      "timestep 125\n",
      "timestep 126\n",
      "timestep 127\n",
      "timestep 128\n",
      "timestep 129\n",
      "timestep 130\n",
      "timestep 131\n",
      "timestep 132\n",
      "timestep 133\n",
      "timestep 134\n",
      "timestep 135\n",
      "timestep 136\n",
      "timestep 137\n",
      "timestep 138\n",
      "timestep 139\n",
      "timestep 140\n",
      "timestep 141\n",
      "timestep 142\n",
      "timestep 143\n",
      "timestep 144\n",
      "timestep 145\n",
      "timestep 146\n",
      "timestep 147\n",
      "timestep 148\n",
      "timestep 149\n",
      "timestep 150\n",
      "timestep 151\n",
      "timestep 152\n",
      "timestep 153\n",
      "timestep 154\n",
      "timestep 155\n",
      "timestep 156\n",
      "timestep 157\n",
      "timestep 158\n",
      "timestep 159\n",
      "timestep 160\n",
      "timestep 161\n",
      "timestep 162\n",
      "timestep 163\n",
      "timestep 164\n",
      "timestep 165\n",
      "timestep 166\n",
      "timestep 167\n",
      "timestep 168\n",
      "timestep 169\n",
      "timestep 170\n",
      "timestep 171\n",
      "timestep 172\n",
      "timestep 173\n",
      "timestep 174\n",
      "timestep 175\n",
      "timestep 176\n",
      "timestep 177\n",
      "timestep 178\n",
      "timestep 179\n",
      "timestep 180\n",
      "timestep 181\n",
      "timestep 182\n",
      "timestep 183\n",
      "timestep 184\n",
      "timestep 185\n",
      "timestep 186\n",
      "timestep 187\n",
      "timestep 188\n",
      "timestep 189\n",
      "timestep 190\n",
      "timestep 191\n",
      "timestep 192\n",
      "timestep 193\n",
      "timestep 194\n",
      "timestep 195\n",
      "timestep 196\n",
      "timestep 197\n",
      "timestep 198\n",
      "timestep 199\n",
      "timestep 200\n",
      "timestep 201\n",
      "timestep 202\n",
      "timestep 203\n",
      "timestep 204\n",
      "timestep 205\n",
      "timestep 206\n",
      "timestep 207\n",
      "timestep 208\n",
      "timestep 209\n",
      "timestep 210\n",
      "timestep 211\n",
      "timestep 212\n",
      "timestep 213\n",
      "timestep 214\n",
      "timestep 215\n",
      "timestep 216\n",
      "timestep 217\n",
      "timestep 218\n",
      "timestep 219\n",
      "timestep 220\n",
      "timestep 221\n",
      "timestep 222\n",
      "timestep 223\n",
      "timestep 224\n",
      "timestep 225\n",
      "timestep 226\n",
      "timestep 227\n",
      "timestep 228\n",
      "timestep 229\n",
      "timestep 230\n",
      "timestep 231\n",
      "timestep 232\n",
      "timestep 233\n",
      "timestep 234\n",
      "timestep 235\n",
      "timestep 236\n",
      "timestep 237\n",
      "timestep 238\n",
      "timestep 239\n",
      "timestep 240\n",
      "timestep 241\n",
      "timestep 242\n",
      "timestep 243\n",
      "timestep 244\n",
      "timestep 245\n",
      "timestep 246\n",
      "timestep 247\n",
      "timestep 248\n",
      "timestep 249\n",
      "timestep 250\n",
      "timestep 251\n",
      "timestep 252\n",
      "timestep 253\n",
      "timestep 254\n",
      "timestep 255\n",
      "timestep 256\n",
      "timestep 257\n",
      "timestep 258\n",
      "timestep 259\n",
      "timestep 260\n",
      "timestep 261\n",
      "timestep 262\n",
      "timestep 263\n",
      "timestep 264\n",
      "timestep 265\n",
      "timestep 266\n",
      "timestep 267\n",
      "timestep 268\n",
      "timestep 269\n",
      "timestep 270\n",
      "timestep 271\n",
      "timestep 272\n",
      "timestep 273\n",
      "timestep 274\n",
      "timestep 275\n",
      "timestep 276\n",
      "timestep 277\n",
      "timestep 278\n",
      "timestep 279\n",
      "timestep 280\n",
      "timestep 281\n",
      "timestep 282\n",
      "timestep 283\n",
      "timestep 284\n",
      "timestep 285\n",
      "timestep 286\n",
      "timestep 287\n",
      "timestep 288\n",
      "timestep 289\n",
      "timestep 290\n",
      "timestep 291\n",
      "timestep 292\n",
      "timestep 293\n",
      "timestep 294\n",
      "timestep 295\n"
     ]
    }
   ],
   "source": [
    "pf_loads_pv_edf = time_var_power_flow(all_results, len_sim,\n",
    "                              lambda res, t: res[\"Medium Office Load\"][t] + res[\"EDF Charging\"][t] + res[\"PV Generation\"][t])"
   ]
  },
  {
   "cell_type": "code",
   "execution_count": 127,
   "metadata": {},
   "outputs": [
    {
     "data": {
      "text/plain": [
       "[<matplotlib.lines.Line2D at 0x7fb4981fa5c0>]"
      ]
     },
     "execution_count": 127,
     "metadata": {},
     "output_type": "execute_result"
    },
    {
     "data": {
      "image/png": "[encoded data removed]",
      "text/plain": [
       "<Figure size 432x288 with 1 Axes>"
      ]
     },
     "metadata": {
      "needs_background": "light"
     },
     "output_type": "display_data"
    }
   ],
   "source": [
    "plt.plot([pf_loads[i].res_bus[\"vm_pu\"][9] for i in range(len_sim)])\n",
    "plt.plot([pf_loads_unc[i].res_bus[\"vm_pu\"][9] for i in range(len_sim)])\n",
    "plt.plot([pf_loads_edf[i].res_bus[\"vm_pu\"][9] for i in range(len_sim)])\n",
    "plt.plot([pf_loads_pv_edf[i].res_bus[\"vm_pu\"][9] for i in range(len_sim)])"
   ]
  },
  {
   "cell_type": "code",
   "execution_count": 124,
   "metadata": {},
   "outputs": [
    {
     "data": {
      "text/plain": [
       "[<matplotlib.lines.Line2D at 0x7fb4980ff828>]"
      ]
     },
     "execution_count": 124,
     "metadata": {},
     "output_type": "execute_result"
    },
    {
     "data": {
      "image/png": "[encoded data removed]",
      "text/plain": [
       "<Figure size 432x288 with 1 Axes>"
      ]
     },
     "metadata": {
      "needs_background": "light"
     },
     "output_type": "display_data"
    }
   ],
   "source": [
    "plt.plot([pf_loads[i].res_trafo[\"loading_percent\"][0] for i in range(len_sim)])\n",
    "plt.plot([pf_loads_unc[i].res_trafo[\"loading_percent\"][0] for i in range(len_sim)])\n",
    "plt.plot([pf_loads_edf[i].res_trafo[\"loading_percent\"][0] for i in range(len_sim)])\n",
    "plt.plot([pf_loads_pv_edf[i].res_trafo[\"loading_percent\"][0] for i in range(len_sim)])"
   ]
  },
  {
   "cell_type": "markdown",
   "metadata": {},
   "source": [
    "Interestingly, solar does not seem to help the grid as much as we might expect. The peak voltage drop is still near 10%, and the transformer is still over-utilized by 50%. Even worse, we now have over-voltage issues, which in some locales is a larger concern than under-voltage: around midday, when many of the cars are done charging but solar is at its peak, we see a voltage that is 5% over nominal. As one may expect, these problems occur because there is a mismatch between the times at which peak EDF charging and peak solar occur. Fortunately, we have a way to encourage EV charging during times of peak solar: load flattening. If a linear optimization encourages total load to be 0, the resultant schedule will charge EVs at high rate when solar is at high generation, and keep charging low when solar isn't as available, and when building load is higher. Let's see how well theory translates to practice in this case:"
   ]
  },
  {
   "cell_type": "code",
   "execution_count": 102,
   "metadata": {
    "collapsed": true,
    "jupyter": {
     "outputs_hidden": true
    }
   },
   "outputs": [
    {
     "name": "stdout",
     "output_type": "stream",
     "text": [
      "timestep 0\n",
      "timestep 1\n",
      "timestep 2\n",
      "timestep 3\n",
      "timestep 4\n",
      "timestep 5\n",
      "timestep 6\n",
      "timestep 7\n",
      "timestep 8\n",
      "timestep 9\n",
      "timestep 10\n",
      "timestep 11\n",
      "timestep 12\n",
      "timestep 13\n",
      "timestep 14\n",
      "timestep 15\n",
      "timestep 16\n",
      "timestep 17\n",
      "timestep 18\n",
      "timestep 19\n",
      "timestep 20\n",
      "timestep 21\n",
      "timestep 22\n",
      "timestep 23\n",
      "timestep 24\n",
      "timestep 25\n",
      "timestep 26\n",
      "timestep 27\n",
      "timestep 28\n",
      "timestep 29\n",
      "timestep 30\n",
      "timestep 31\n",
      "timestep 32\n",
      "timestep 33\n",
      "timestep 34\n",
      "timestep 35\n",
      "timestep 36\n",
      "timestep 37\n",
      "timestep 38\n",
      "timestep 39\n",
      "timestep 40\n",
      "timestep 41\n",
      "timestep 42\n",
      "timestep 43\n",
      "timestep 44\n",
      "timestep 45\n",
      "timestep 46\n",
      "timestep 47\n",
      "timestep 48\n",
      "timestep 49\n",
      "timestep 50\n",
      "timestep 51\n",
      "timestep 52\n",
      "timestep 53\n",
      "timestep 54\n",
      "timestep 55\n",
      "timestep 56\n",
      "timestep 57\n",
      "timestep 58\n",
      "timestep 59\n",
      "timestep 60\n",
      "timestep 61\n",
      "timestep 62\n",
      "timestep 63\n",
      "timestep 64\n",
      "timestep 65\n",
      "timestep 66\n",
      "timestep 67\n",
      "timestep 68\n",
      "timestep 69\n",
      "timestep 70\n",
      "timestep 71\n",
      "timestep 72\n",
      "timestep 73\n",
      "timestep 74\n",
      "timestep 75\n",
      "timestep 76\n",
      "timestep 77\n",
      "timestep 78\n",
      "timestep 79\n",
      "timestep 80\n",
      "timestep 81\n",
      "timestep 82\n",
      "timestep 83\n",
      "timestep 84\n",
      "timestep 85\n",
      "timestep 86\n",
      "timestep 87\n",
      "timestep 88\n",
      "timestep 89\n",
      "timestep 90\n",
      "timestep 91\n",
      "timestep 92\n",
      "timestep 93\n",
      "timestep 94\n",
      "timestep 95\n",
      "timestep 96\n",
      "timestep 97\n",
      "timestep 98\n",
      "timestep 99\n",
      "timestep 100\n",
      "timestep 101\n",
      "timestep 102\n",
      "timestep 103\n",
      "timestep 104\n",
      "timestep 105\n",
      "timestep 106\n",
      "timestep 107\n",
      "timestep 108\n",
      "timestep 109\n",
      "timestep 110\n",
      "timestep 111\n",
      "timestep 112\n",
      "timestep 113\n",
      "timestep 114\n",
      "timestep 115\n",
      "timestep 116\n",
      "timestep 117\n",
      "timestep 118\n",
      "timestep 119\n",
      "timestep 120\n",
      "timestep 121\n",
      "timestep 122\n",
      "timestep 123\n",
      "timestep 124\n",
      "timestep 125\n",
      "timestep 126\n",
      "timestep 127\n",
      "timestep 128\n",
      "timestep 129\n",
      "timestep 130\n",
      "timestep 131\n",
      "timestep 132\n",
      "timestep 133\n",
      "timestep 134\n",
      "timestep 135\n",
      "timestep 136\n",
      "timestep 137\n",
      "timestep 138\n",
      "timestep 139\n",
      "timestep 140\n",
      "timestep 141\n",
      "timestep 142\n",
      "timestep 143\n",
      "timestep 144\n",
      "timestep 145\n",
      "timestep 146\n",
      "timestep 147\n",
      "timestep 148\n",
      "timestep 149\n",
      "timestep 150\n",
      "timestep 151\n",
      "timestep 152\n",
      "timestep 153\n",
      "timestep 154\n",
      "timestep 155\n",
      "timestep 156\n",
      "timestep 157\n",
      "timestep 158\n",
      "timestep 159\n",
      "timestep 160\n",
      "timestep 161\n",
      "timestep 162\n",
      "timestep 163\n",
      "timestep 164\n",
      "timestep 165\n",
      "timestep 166\n",
      "timestep 167\n",
      "timestep 168\n",
      "timestep 169\n",
      "timestep 170\n",
      "timestep 171\n",
      "timestep 172\n",
      "timestep 173\n",
      "timestep 174\n",
      "timestep 175\n",
      "timestep 176\n",
      "timestep 177\n",
      "timestep 178\n",
      "timestep 179\n",
      "timestep 180\n",
      "timestep 181\n",
      "timestep 182\n",
      "timestep 183\n",
      "timestep 184\n",
      "timestep 185\n",
      "timestep 186\n",
      "timestep 187\n",
      "timestep 188\n",
      "timestep 189\n",
      "timestep 190\n",
      "timestep 191\n",
      "timestep 192\n",
      "timestep 193\n",
      "timestep 194\n",
      "timestep 195\n",
      "timestep 196\n",
      "timestep 197\n",
      "timestep 198\n",
      "timestep 199\n",
      "timestep 200\n",
      "timestep 201\n",
      "timestep 202\n",
      "timestep 203\n",
      "timestep 204\n",
      "timestep 205\n",
      "timestep 206\n",
      "timestep 207\n",
      "timestep 208\n",
      "timestep 209\n",
      "timestep 210\n",
      "timestep 211\n",
      "timestep 212\n",
      "timestep 213\n",
      "timestep 214\n",
      "timestep 215\n",
      "timestep 216\n",
      "timestep 217\n",
      "timestep 218\n",
      "timestep 219\n",
      "timestep 220\n",
      "timestep 221\n",
      "timestep 222\n",
      "timestep 223\n",
      "timestep 224\n",
      "timestep 225\n",
      "timestep 226\n",
      "timestep 227\n",
      "timestep 228\n",
      "timestep 229\n",
      "timestep 230\n",
      "timestep 231\n",
      "timestep 232\n",
      "timestep 233\n",
      "timestep 234\n",
      "timestep 235\n",
      "timestep 236\n",
      "timestep 237\n",
      "timestep 238\n",
      "timestep 239\n",
      "timestep 240\n",
      "timestep 241\n",
      "timestep 242\n",
      "timestep 243\n",
      "timestep 244\n",
      "timestep 245\n",
      "timestep 246\n",
      "timestep 247\n",
      "timestep 248\n",
      "timestep 249\n",
      "timestep 250\n",
      "timestep 251\n",
      "timestep 252\n",
      "timestep 253\n",
      "timestep 254\n",
      "timestep 255\n",
      "timestep 256\n",
      "timestep 257\n",
      "timestep 258\n",
      "timestep 259\n",
      "timestep 260\n",
      "timestep 261\n",
      "timestep 262\n",
      "timestep 263\n",
      "timestep 264\n",
      "timestep 265\n",
      "timestep 266\n",
      "timestep 267\n",
      "timestep 268\n",
      "timestep 269\n",
      "timestep 270\n",
      "timestep 271\n",
      "timestep 272\n",
      "timestep 273\n",
      "timestep 274\n",
      "timestep 275\n",
      "timestep 276\n",
      "timestep 277\n",
      "timestep 278\n",
      "timestep 279\n",
      "timestep 280\n",
      "timestep 281\n",
      "timestep 282\n",
      "timestep 283\n",
      "timestep 284\n",
      "timestep 285\n",
      "timestep 286\n",
      "timestep 287\n",
      "timestep 288\n",
      "timestep 289\n",
      "timestep 290\n",
      "timestep 291\n",
      "timestep 292\n",
      "timestep 293\n",
      "timestep 294\n",
      "timestep 295\n"
     ]
    }
   ],
   "source": [
    "pf_loads_pv_lf = time_var_power_flow(all_results, len_sim,\n",
    "                              lambda res, t: res[\"Medium Office Load\"][t] + res[\"Load Flattening: Combined\"][t] + res[\"PV Generation\"][t])"
   ]
  },
  {
   "cell_type": "code",
   "execution_count": 128,
   "metadata": {},
   "outputs": [
    {
     "data": {
      "text/plain": [
       "[<matplotlib.lines.Line2D at 0x7fb499a367b8>]"
      ]
     },
     "execution_count": 128,
     "metadata": {},
     "output_type": "execute_result"
    },
    {
     "data": {
      "image/png": "[encoded data removed]",
      "text/plain": [
       "<Figure size 432x288 with 1 Axes>"
      ]
     },
     "metadata": {
      "needs_background": "light"
     },
     "output_type": "display_data"
    }
   ],
   "source": [
    "plt.plot([pf_loads[i].res_bus[\"vm_pu\"][9] for i in range(len_sim)])\n",
    "plt.plot([pf_loads_unc[i].res_bus[\"vm_pu\"][9] for i in range(len_sim)])\n",
    "plt.plot([pf_loads_edf[i].res_bus[\"vm_pu\"][9] for i in range(len_sim)])\n",
    "plt.plot([pf_loads_pv_edf[i].res_bus[\"vm_pu\"][9] for i in range(len_sim)])\n",
    "plt.plot([pf_loads_pv_lf[i].res_bus[\"vm_pu\"][9] for i in range(len_sim)])"
   ]
  },
  {
   "cell_type": "code",
   "execution_count": 130,
   "metadata": {},
   "outputs": [
    {
     "data": {
      "text/plain": [
       "[<matplotlib.lines.Line2D at 0x7fb4981bc3c8>]"
      ]
     },
     "execution_count": 130,
     "metadata": {},
     "output_type": "execute_result"
    },
    {
     "data": {
      "image/png": "[encoded data removed]",
      "text/plain": [
       "<Figure size 432x288 with 1 Axes>"
      ]
     },
     "metadata": {
      "needs_background": "light"
     },
     "output_type": "display_data"
    }
   ],
   "source": [
    "plt.plot([pf_loads[i].res_trafo[\"loading_percent\"][0] for i in range(len_sim)])\n",
    "plt.plot([pf_loads_unc[i].res_trafo[\"loading_percent\"][0] for i in range(len_sim)])\n",
    "plt.plot([pf_loads_edf[i].res_trafo[\"loading_percent\"][0] for i in range(len_sim)])\n",
    "plt.plot([pf_loads_pv_edf[i].res_trafo[\"loading_percent\"][0] for i in range(len_sim)])\n",
    "plt.plot([pf_loads_pv_lf[i].res_trafo[\"loading_percent\"][0] for i in range(len_sim)])"
   ]
  },
  {
   "cell_type": "markdown",
   "metadata": {},
   "source": [
    "We see great results! Our under-voltage issues are definitely gone (or at least at the same level as before we installed EV charging) and our transformer utilization is clearly lower. Let's look closer at how these results compare to our original, EV-free results."
   ]
  },
  {
   "cell_type": "code",
   "execution_count": 137,
   "metadata": {},
   "outputs": [
    {
     "data": {
      "text/plain": [
       "[<matplotlib.lines.Line2D at 0x7fb49a4055c0>]"
      ]
     },
     "execution_count": 137,
     "metadata": {},
     "output_type": "execute_result"
    },
    {
     "data": {
      "image/png": "[encoded data removed]",
      "text/plain": [
       "<Figure size 432x288 with 1 Axes>"
      ]
     },
     "metadata": {
      "needs_background": "light"
     },
     "output_type": "display_data"
    }
   ],
   "source": [
    "plt.plot([pf_loads[i].res_bus[\"vm_pu\"][9] for i in range(len_sim)])\n",
    "plt.plot([pf_loads_pv_lf[i].res_bus[\"vm_pu\"][9] for i in range(len_sim)])"
   ]
  },
  {
   "cell_type": "code",
   "execution_count": 138,
   "metadata": {},
   "outputs": [
    {
     "data": {
      "text/plain": [
       "[<matplotlib.lines.Line2D at 0x7fb49a345ef0>]"
      ]
     },
     "execution_count": 138,
     "metadata": {},
     "output_type": "execute_result"
    },
    {
     "data": {
      "image/png": "[encoded data removed]",
      "text/plain": [
       "<Figure size 432x288 with 1 Axes>"
      ]
     },
     "metadata": {
      "needs_background": "light"
     },
     "output_type": "display_data"
    }
   ],
   "source": [
    "plt.plot([pf_loads[i].res_trafo[\"loading_percent\"][0] for i in range(len_sim)])\n",
    "plt.plot([pf_loads_pv_lf[i].res_trafo[\"loading_percent\"][0] for i in range(len_sim)])"
   ]
  },
  {
   "cell_type": "markdown",
   "metadata": {},
   "source": [
    "Indeed, voltage-wise we are at most 2% under and 1% over, well within the bounds required by most grids. Our average transformer utilization is better than building load only, and our peak utilization is only about 3% higher than pre-EV. Finally, one may be concerned that load-flattening may have decreased the strain on the grid by trading off how many people were fully charged before they left. Let's see if this is the case:"
   ]
  },
  {
   "cell_type": "code",
   "execution_count": 139,
   "metadata": {},
   "outputs": [
    {
     "data": {
      "text/plain": [
       "0.9999983026423949"
      ]
     },
     "execution_count": 139,
     "metadata": {},
     "output_type": "execute_result"
    }
   ],
   "source": [
    "acnsim.proportion_of_energy_delivered(sim_lf_pv_load)"
   ]
  },
  {
   "cell_type": "markdown",
   "metadata": {},
   "source": [
    "So, we made no sacrifices here: everyone received their desired energy on time.\n",
    "\n",
    "# TODO: Issues\n",
    " * Simulations only run for a single day with high PV generation and almost no building load. We should try the opposite extreme.\n",
    " * Currently I don't have a good reason for dividing all loads by 2 except to ensure convergence.\n",
    " * In terms of presentation I think it would be better to pair each simulation with a power flow instead of running all simulations and then all power flows.\n",
    " * There's another story in which PV and building load are already there and we use EVs to offset over-generation.\n",
    " * All the graphs need labels/legends"
   ]
  },
  {
   "cell_type": "code",
   "execution_count": null,
   "metadata": {},
   "outputs": [],
   "source": []
  }
 ],
 "metadata": {
  "kernelspec": {
   "display_name": "Python 3",
   "language": "python",
   "name": "python3"
  },
  "language_info": {
   "codemirror_mode": {
    "name": "ipython",
    "version": 3
   },
   "file_extension": ".py",
   "mimetype": "text/x-python",
   "name": "python",
   "nbconvert_exporter": "python",
   "pygments_lexer": "ipython3",
   "version": "3.7.1"
  }
 },
 "nbformat": 4,
 "nbformat_minor": 4
}
