{
 "cells": [
  {
   "cell_type": "markdown",
   "metadata": {},
   "source": [
    "# ACN-Sim Tutorial: Lesson 1\n",
    "## Running an Experiment\n",
    "### by Zachary Lee\n",
    "#### Last updated: 03/19/2019\n",
    "\n",
    "In this first lesson we will learn how to setup and run a simulation using a built-in scheduling algorithm.\n",
    "After running the simulation we will learn how to use the analysis subpackage to analyze the results of the simulation."
   ]
  },
  {
   "cell_type": "code",
   "execution_count": 15,
   "metadata": {},
   "outputs": [],
   "source": [
    "import pytz\n",
    "from datetime import datetime\n",
    "from matplotlib import pyplot as plt\n",
    "\n",
    "from acnportal.acnsim import Simulator\n",
    "from acnportal.acnsim.network.sites import CaltechACN\n",
    "from acnportal.acnsim.events import c2api\n",
    "from acnsim.analysis import *\n",
    "from acnportal.algorithms import UncontrolledCharging\n"
   ]
  },
  {
   "cell_type": "markdown",
   "metadata": {},
   "source": [
    "### Experiment Parameters \n",
    "\n"
   ]
  },
  {
   "cell_type": "code",
   "execution_count": 16,
   "metadata": {},
   "outputs": [],
   "source": [
    "# Timezone of the ACN we are using.\n",
    "timezone = pytz.timezone('America/Los_Angeles')\n",
    "\n",
    "# Start and End times are used when collecting data.\n",
    "start = datetime(2018, 9, 5).astimezone(timezone)\n",
    "end = datetime(2018, 9, 6).astimezone(timezone)\n",
    "\n",
    "# How long each time discrete time interval in the simulation should be.\n",
    "period = 5  # minutes\n",
    "\n",
    "# Voltage of the network.\n",
    "voltage = 220  # volts\n",
    "\n",
    "# Default maximum charging rate for each EV.\n",
    "max_rate = 32 # amps\n",
    "\n",
    "# Identifier of the site where data will be gathered.\n",
    "site = 'caltech'"
   ]
  },
  {
   "cell_type": "markdown",
   "metadata": {},
   "source": [
    "### Network "
   ]
  },
  {
   "cell_type": "code",
   "execution_count": 17,
   "metadata": {},
   "outputs": [],
   "source": [
    "# For this experiment we use the predefined CaltechACN network.\n",
    "cn = CaltechACN(basic_evse=True)"
   ]
  },
  {
   "cell_type": "markdown",
   "metadata": {},
   "source": [
    "### Events\n",
    "\n",
    "In this case we will use the Caltech Charging Dataset API to download real events from the time period of our\n",
    "simulation."
   ]
  },
  {
   "cell_type": "code",
   "execution_count": 18,
   "metadata": {},
   "outputs": [],
   "source": [
    "# For this tutorial we will use a demonstration token to access the API, but when using real simulations you will\n",
    "# want to register for your own free API token at ev.caltech.edu/dataset.html.\n",
    "API_KEY = 'DEMO_TOKEN'\n",
    "\n",
    "# An EventQueue is a special container which stores the events for the simulation. In this case we use the c2api utility\n",
    "# to pre-fill the event queue based on real events in the Caltech Charging Dataset.\n",
    "events = c2api.generate_events(API_KEY, site, start, end, period, voltage, max_rate)"
   ]
  },
  {
   "cell_type": "markdown",
   "metadata": {},
   "source": [
    "### Scheduling Algorithm\n",
    "\n",
    "In this case we will use the Caltech Charging Dataset API to download real events from the time period of our\n",
    "simulation."
   ]
  },
  {
   "cell_type": "code",
   "execution_count": 19,
   "metadata": {},
   "outputs": [],
   "source": [
    "# For this simple experiment we will use the predefined Uncontrolled Charging algorithm. We will cover more advanced\n",
    "# algorithms and how to define a custom algorithm in future tutorials.\n",
    "sch = UncontrolledCharging()"
   ]
  },
  {
   "cell_type": "markdown",
   "metadata": {},
   "source": [
    "### Simulator\n",
    "\n",
    "We can now load the simulator enviroment with the network, scheduler, and events we have already defined."
   ]
  },
  {
   "cell_type": "code",
   "execution_count": 20,
   "metadata": {},
   "outputs": [],
   "source": [
    "sim = Simulator(cn, sch, events, start, period=period, max_recomp=1)"
   ]
  },
  {
   "cell_type": "markdown",
   "metadata": {},
   "source": [
    "To execute the simulation we simply call the run() function."
   ]
  },
  {
   "cell_type": "code",
   "execution_count": 21,
   "metadata": {},
   "outputs": [
    {
     "name": "stdout",
     "output_type": "stream",
     "text": [
      "Plugin Event...\n",
      "Plugin Event...\n",
      "Plugin Event...\n",
      "Plugin Event...\n",
      "Plugin Event...\n",
      "Plugin Event...\n",
      "Plugin Event...\n",
      "Plugin Event...\n",
      "Plugin Event...\n",
      "Plugin Event...\n",
      "Plugin Event...\n",
      "Plugin Event...\n",
      "Plugin Event...\n",
      "Plugin Event...\n",
      "Plugin Event...\n",
      "Plugin Event...\n",
      "Plugin Event...\n",
      "Plugin Event...\n",
      "Plugin Event...\n",
      "Plugin Event...\n",
      "Plugin Event...\n",
      "Plugin Event...\n",
      "Plugin Event...\n",
      "Plugin Event...\n",
      "Plugin Event...\n",
      "Plugin Event...\n",
      "Plugin Event...\n",
      "Plugin Event...\n",
      "Plugin Event...\n",
      "Plugin Event...\n",
      "Plugin Event...\n",
      "Plugin Event...\n",
      "Plugin Event...\n",
      "Plugin Event...\n",
      "Plugin Event...\n",
      "Plugin Event...\n",
      "Unplug Event...\n",
      "Plugin Event...\n",
      "Plugin Event...\n",
      "Plugin Event...\n",
      "Plugin Event...\n",
      "Plugin Event...\n",
      "Plugin Event...\n",
      "Plugin Event...\n",
      "Plugin Event...\n",
      "Plugin Event...\n",
      "Unplug Event...\n",
      "Plugin Event...\n",
      "Plugin Event...\n",
      "Plugin Event...\n",
      "Unplug Event...\n",
      "Unplug Event...\n",
      "Unplug Event...\n",
      "Plugin Event...\n",
      "Unplug Event...\n",
      "Plugin Event...\n",
      "Plugin Event...\n",
      "Unplug Event...\n",
      "Unplug Event...\n",
      "Unplug Event...\n",
      "Plugin Event...\n",
      "Unplug Event...\n",
      "Plugin Event...\n",
      "Plugin Event...\n",
      "Unplug Event...\n",
      "Plugin Event...\n",
      "Plugin Event...\n",
      "Unplug Event...\n",
      "Unplug Event...\n",
      "Plugin Event...\n",
      "Plugin Event...\n",
      "Unplug Event...\n",
      "Plugin Event...\n",
      "Unplug Event...\n",
      "Unplug Event...\n",
      "Unplug Event...\n",
      "Unplug Event...\n",
      "Unplug Event...\n",
      "Plugin Event...\n",
      "Unplug Event...\n",
      "Plugin Event...\n",
      "Unplug Event...\n",
      "Unplug Event...\n",
      "Unplug Event...\n",
      "Unplug Event...\n",
      "Unplug Event...\n",
      "Unplug Event...\n",
      "Unplug Event...\n",
      "Unplug Event...\n",
      "Unplug Event...\n",
      "Unplug Event...\n",
      "Unplug Event...\n",
      "Unplug Event...\n",
      "Plugin Event...\n",
      "Plugin Event...\n",
      "Unplug Event...\n",
      "Unplug Event...\n",
      "Unplug Event...\n",
      "Unplug Event...\n",
      "Unplug Event...\n",
      "Unplug Event...\n",
      "Unplug Event...\n",
      "Unplug Event...\n",
      "Unplug Event...\n",
      "Plugin Event...\n",
      "Unplug Event...\n",
      "Unplug Event...\n",
      "Unplug Event...\n",
      "Unplug Event...\n",
      "Plugin Event...\n",
      "Plugin Event...\n",
      "Plugin Event...\n",
      "Unplug Event...\n",
      "Unplug Event...\n",
      "Unplug Event...\n",
      "Plugin Event...\n",
      "Unplug Event...\n",
      "Unplug Event...\n",
      "Plugin Event...\n",
      "Unplug Event...\n",
      "Unplug Event...\n",
      "Plugin Event...\n",
      "Unplug Event...\n",
      "Plugin Event...\n",
      "Unplug Event...\n",
      "Unplug Event...\n",
      "Unplug Event...\n",
      "Unplug Event...\n",
      "Unplug Event...\n",
      "Plugin Event...\n",
      "Unplug Event...\n",
      "Plugin Event...\n",
      "Plugin Event...\n",
      "Plugin Event...\n",
      "Unplug Event...\n",
      "Plugin Event...\n",
      "Plugin Event...\n",
      "Unplug Event...\n",
      "Plugin Event...\n",
      "Plugin Event...\n",
      "Unplug Event...\n",
      "Unplug Event...\n",
      "Plugin Event...\n",
      "Unplug Event...\n",
      "Unplug Event...\n",
      "Plugin Event...\n",
      "Unplug Event...\n",
      "Plugin Event...\n",
      "Plugin Event...\n",
      "Plugin Event...\n",
      "Unplug Event...\n",
      "Unplug Event...\n",
      "Unplug Event...\n",
      "Unplug Event...\n",
      "Unplug Event...\n",
      "Unplug Event...\n",
      "Unplug Event...\n",
      "Unplug Event...\n",
      "Unplug Event...\n",
      "Plugin Event...\n",
      "Plugin Event...\n",
      "Unplug Event...\n",
      "Plugin Event...\n",
      "Plugin Event...\n",
      "Unplug Event...\n",
      "Unplug Event...\n",
      "Unplug Event...\n",
      "Plugin Event...\n",
      "Unplug Event...\n",
      "Unplug Event...\n",
      "Unplug Event...\n",
      "Unplug Event...\n",
      "Unplug Event...\n",
      "Unplug Event...\n",
      "Unplug Event...\n",
      "Unplug Event...\n",
      "Unplug Event...\n",
      "Unplug Event...\n"
     ]
    }
   ],
   "source": [
    "sim.run()"
   ]
  },
  {
   "cell_type": "markdown",
   "metadata": {},
   "source": [
    "### Analysis\n",
    "\n",
    "After running the simulation, we can analyze the results using data stored in the simulator."
   ]
  },
  {
   "cell_type": "code",
   "execution_count": 22,
   "metadata": {},
   "outputs": [
    {
     "name": "stdout",
     "output_type": "stream",
     "text": [
      "Proportion of requested energy delivered: 1.0\n"
     ]
    }
   ],
   "source": [
    "# Find percentage of requested energy which was delivered.\n",
    "total_energy_prop = proportion_of_energy_delivered(sim)\n",
    "print('Proportion of requested energy delivered: {0}'.format(total_energy_prop))"
   ]
  },
  {
   "cell_type": "code",
   "execution_count": 23,
   "metadata": {},
   "outputs": [
    {
     "name": "stdout",
     "output_type": "stream",
     "text": [
      "Peak aggregate current: 704 A\n"
     ]
    }
   ],
   "source": [
    "# Find peak aggregate current during the simulation\n",
    "print('Peak aggregate current: {0} A'.format(sim.peak))"
   ]
  },
  {
   "cell_type": "code",
   "execution_count": 24,
   "metadata": {},
   "outputs": [
    {
     "data": {
      "image/png": "[encoded data removed]",
      "text/plain": [
       "<matplotlib.figure.Figure at 0x11fc9f080>"
      ]
     },
     "metadata": {
      "needs_background": "light"
     },
     "output_type": "display_data"
    }
   ],
   "source": [
    "# Plotting aggregate current\n",
    "agg_current = aggregate_current(sim)\n",
    "plt.plot(agg_current)\n",
    "plt.xlabel('Time (periods)')\n",
    "plt.ylabel('Current (A)')\n",
    "plt.title('Total Aggregate Current')\n",
    "plt.show()"
   ]
  },
  {
   "cell_type": "code",
   "execution_count": null,
   "metadata": {},
   "outputs": [],
   "source": []
  }
 ],
 "metadata": {
  "kernelspec": {
   "display_name": "Python 3",
   "language": "python",
   "name": "python3"
  },
  "language_info": {
   "codemirror_mode": {
    "name": "ipython",
    "version": 3
   },
   "file_extension": ".py",
   "mimetype": "text/x-python",
   "name": "python",
   "nbconvert_exporter": "python",
   "pygments_lexer": "ipython3",
   "version": "3.6.8"
  }
 },
 "nbformat": 4,
 "nbformat_minor": 2
}
